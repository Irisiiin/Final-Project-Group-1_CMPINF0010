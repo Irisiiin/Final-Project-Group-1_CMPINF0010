{
 "cells": [
  {
   "cell_type": "markdown",
   "metadata": {},
   "source": [
    "# Evaluating Pittsburgh's Neighborhoods Through Restaurant Inspection Data"
   ]
  },
  {
   "cell_type": "markdown",
   "metadata": {},
   "source": [
    "## 1. Introduction"
   ]
  },
  {
   "cell_type": "markdown",
   "metadata": {},
   "source": [
    "### 1.1 Project Context"
   ]
  },
  {
   "cell_type": "markdown",
   "metadata": {},
   "source": [
    "Data Source: [Allegheny County Restaurant/Food Facility Inspections and Locations](https://data.wprdc.org/dataset/allegheny-county-restaurant-food-facility-inspection-violations)\n",
    "- This evaluation seeks to determine the top neighborhood in Pittsburgh in terms of public health.\n",
    "- A crucial element of the following analysis involves examining the food services across various neighborhoods.\n",
    "- The goal is to employ a data-driven method to assess each area by the health and safety standards of its food venues."
   ]
  },
  {
   "cell_type": "markdown",
   "metadata": {},
   "source": [
    "### 1.2 Data Source"
   ]
  },
  {
   "cell_type": "markdown",
   "metadata": {},
   "source": [
    "- This evaluation utilizes the \"Allegheny County Restaurant/Food Facility Inspections and Locations\" dataset, maintained by the Allegheny County Health Department. This dataset provides a comprehensive record of routine inspections for facilities that produce, distribute, and sell food products within Allegheny County.\n",
    "- Each entry in this dataset includes detailed violation data and geocoded locations.\n",
    "- The data covers inspections from January 2016 to the present and is updated monthly."
   ]
  },
  {
   "cell_type": "markdown",
   "metadata": {},
   "source": [
    "### 1.3 Approach & Structure"
   ]
  },
  {
   "cell_type": "markdown",
   "metadata": {},
   "source": [
    "- The metric developed for this evaluation focuses on the frequency and severity of health inspection violations in food facilities as a proxy for overall neighborhood health standards.\n",
    "- It is assumed that neighborhoods with fewer and less severe violations are likely to be more desirable places to live.\n",
    "- This evaluation introduces the metric, explains the features measured, and then applies this metric to determine which neighborhood in Pittsburgh can be considered the \"best\" based on the defined criteria.\n",
    "- The evaluation includes data visualizations to compare neighborhoods and track changes over time."
   ]
  },
  {
   "cell_type": "markdown",
   "metadata": {},
   "source": [
    "### 1.4 Anticipated Outcomes"
   ]
  },
  {
   "cell_type": "markdown",
   "metadata": {},
   "source": [
    "By the end of this evaluation, the goal is to reveal patterns about neighborhood compliance with health regulations, which could have broader implications for public health and real estate values."
   ]
  },
  {
   "cell_type": "markdown",
   "metadata": {},
   "source": [
    "## 2. The Metric"
   ]
  },
  {
   "cell_type": "markdown",
   "metadata": {},
   "source": [
    "- Timeliness of Data: The violation records before Jan 1, 2016 will be filtered out.\n",
    "- Adaquacy of Data: There are neighborhoods with very little violation data due to various reasons. It could be data gaps or simply lack of restaurants. Neighborhoods where the number of violtions is less than 1000 will be filtered out.\n",
    "- Number of Violations: Less violations, better public health, and better neighborhood!\n",
    "- Components of Violations: Violations are rated with three levels in the original data. Larger ratio of \"low\" violations is more desirable.\n",
    "    - Low: These are minor issues that have a low risk of causing significant harm or disruption.\n",
    "    - Medium: These issues present a moderate risk\n",
    "    - High: These are serious violations or issues that pose a high risk of harm or severe consequences."
   ]
  },
  {
   "cell_type": "markdown",
   "metadata": {},
   "source": [
    "## 3. The Best Neighborhood"
   ]
  },
  {
   "cell_type": "markdown",
   "metadata": {},
   "source": [
    "Firstly, load the dataset."
   ]
  },
  {
   "cell_type": "code",
   "execution_count": 3,
   "metadata": {},
   "outputs": [
    {
     "data": {
      "text/html": [
       "<div>\n",
       "<style scoped>\n",
       "    .dataframe tbody tr th:only-of-type {\n",
       "        vertical-align: middle;\n",
       "    }\n",
       "\n",
       "    .dataframe tbody tr th {\n",
       "        vertical-align: top;\n",
       "    }\n",
       "\n",
       "    .dataframe thead th {\n",
       "        text-align: right;\n",
       "    }\n",
       "</style>\n",
       "<table border=\"1\" class=\"dataframe\">\n",
       "  <thead>\n",
       "    <tr style=\"text-align: right;\">\n",
       "      <th></th>\n",
       "      <th>_id</th>\n",
       "      <th>encounter</th>\n",
       "      <th>id</th>\n",
       "      <th>placard_st</th>\n",
       "      <th>facility_name</th>\n",
       "      <th>bus_st_date</th>\n",
       "      <th>description</th>\n",
       "      <th>description_new</th>\n",
       "      <th>num</th>\n",
       "      <th>street</th>\n",
       "      <th>...</th>\n",
       "      <th>zip</th>\n",
       "      <th>inspect_dt</th>\n",
       "      <th>start_time</th>\n",
       "      <th>end_time</th>\n",
       "      <th>municipal</th>\n",
       "      <th>rating</th>\n",
       "      <th>low</th>\n",
       "      <th>medium</th>\n",
       "      <th>high</th>\n",
       "      <th>url</th>\n",
       "    </tr>\n",
       "  </thead>\n",
       "  <tbody>\n",
       "    <tr>\n",
       "      <th>0</th>\n",
       "      <td>106809214</td>\n",
       "      <td>201408280014</td>\n",
       "      <td>59</td>\n",
       "      <td>1</td>\n",
       "      <td>Shadyside Market</td>\n",
       "      <td>1984-06-17</td>\n",
       "      <td>Retail/Convenience Store</td>\n",
       "      <td>Fabrication, Design, Installation and Maintenance</td>\n",
       "      <td>5414</td>\n",
       "      <td>Walnut St</td>\n",
       "      <td>...</td>\n",
       "      <td>15232.0</td>\n",
       "      <td>2014-08-25</td>\n",
       "      <td>09:30:00</td>\n",
       "      <td>10:45:00</td>\n",
       "      <td>Pittsburgh-107</td>\n",
       "      <td>V</td>\n",
       "      <td>T</td>\n",
       "      <td>F</td>\n",
       "      <td>F</td>\n",
       "      <td>http://appsrv.alleghenycounty.us/reports/rwser...</td>\n",
       "    </tr>\n",
       "    <tr>\n",
       "      <th>1</th>\n",
       "      <td>106809215</td>\n",
       "      <td>201408280014</td>\n",
       "      <td>59</td>\n",
       "      <td>1</td>\n",
       "      <td>Shadyside Market</td>\n",
       "      <td>1984-06-17</td>\n",
       "      <td>Retail/Convenience Store</td>\n",
       "      <td>Administrative</td>\n",
       "      <td>5414</td>\n",
       "      <td>Walnut St</td>\n",
       "      <td>...</td>\n",
       "      <td>15232.0</td>\n",
       "      <td>2014-08-25</td>\n",
       "      <td>09:30:00</td>\n",
       "      <td>10:45:00</td>\n",
       "      <td>Pittsburgh-107</td>\n",
       "      <td>V</td>\n",
       "      <td>NaN</td>\n",
       "      <td>NaN</td>\n",
       "      <td>NaN</td>\n",
       "      <td>http://appsrv.alleghenycounty.us/reports/rwser...</td>\n",
       "    </tr>\n",
       "    <tr>\n",
       "      <th>2</th>\n",
       "      <td>106809216</td>\n",
       "      <td>201510130064</td>\n",
       "      <td>59</td>\n",
       "      <td>1</td>\n",
       "      <td>Shadyside Market</td>\n",
       "      <td>1984-06-17</td>\n",
       "      <td>Retail/Convenience Store</td>\n",
       "      <td>Hot Holding Temperatures</td>\n",
       "      <td>5414</td>\n",
       "      <td>Walnut St</td>\n",
       "      <td>...</td>\n",
       "      <td>15232.0</td>\n",
       "      <td>2015-10-13</td>\n",
       "      <td>13:40:00</td>\n",
       "      <td>15:45:00</td>\n",
       "      <td>Pittsburgh-107</td>\n",
       "      <td>V</td>\n",
       "      <td>F</td>\n",
       "      <td>F</td>\n",
       "      <td>T</td>\n",
       "      <td>http://appsrv.alleghenycounty.us/reports/rwser...</td>\n",
       "    </tr>\n",
       "    <tr>\n",
       "      <th>3</th>\n",
       "      <td>106809217</td>\n",
       "      <td>201510130064</td>\n",
       "      <td>59</td>\n",
       "      <td>1</td>\n",
       "      <td>Shadyside Market</td>\n",
       "      <td>1984-06-17</td>\n",
       "      <td>Retail/Convenience Store</td>\n",
       "      <td>Facilities to Maintain Temperature</td>\n",
       "      <td>5414</td>\n",
       "      <td>Walnut St</td>\n",
       "      <td>...</td>\n",
       "      <td>15232.0</td>\n",
       "      <td>2015-10-13</td>\n",
       "      <td>13:40:00</td>\n",
       "      <td>15:45:00</td>\n",
       "      <td>Pittsburgh-107</td>\n",
       "      <td>V</td>\n",
       "      <td>T</td>\n",
       "      <td>F</td>\n",
       "      <td>F</td>\n",
       "      <td>http://appsrv.alleghenycounty.us/reports/rwser...</td>\n",
       "    </tr>\n",
       "    <tr>\n",
       "      <th>4</th>\n",
       "      <td>106809218</td>\n",
       "      <td>201510130064</td>\n",
       "      <td>59</td>\n",
       "      <td>1</td>\n",
       "      <td>Shadyside Market</td>\n",
       "      <td>1984-06-17</td>\n",
       "      <td>Retail/Convenience Store</td>\n",
       "      <td>Cleaning and Sanitization</td>\n",
       "      <td>5414</td>\n",
       "      <td>Walnut St</td>\n",
       "      <td>...</td>\n",
       "      <td>15232.0</td>\n",
       "      <td>2015-10-13</td>\n",
       "      <td>13:40:00</td>\n",
       "      <td>15:45:00</td>\n",
       "      <td>Pittsburgh-107</td>\n",
       "      <td>V</td>\n",
       "      <td>T</td>\n",
       "      <td>F</td>\n",
       "      <td>F</td>\n",
       "      <td>http://appsrv.alleghenycounty.us/reports/rwser...</td>\n",
       "    </tr>\n",
       "  </tbody>\n",
       "</table>\n",
       "<p>5 rows × 22 columns</p>\n",
       "</div>"
      ],
      "text/plain": [
       "         _id     encounter  id  placard_st     facility_name bus_st_date  \\\n",
       "0  106809214  201408280014  59           1  Shadyside Market  1984-06-17   \n",
       "1  106809215  201408280014  59           1  Shadyside Market  1984-06-17   \n",
       "2  106809216  201510130064  59           1  Shadyside Market  1984-06-17   \n",
       "3  106809217  201510130064  59           1  Shadyside Market  1984-06-17   \n",
       "4  106809218  201510130064  59           1  Shadyside Market  1984-06-17   \n",
       "\n",
       "                description  \\\n",
       "0  Retail/Convenience Store   \n",
       "1  Retail/Convenience Store   \n",
       "2  Retail/Convenience Store   \n",
       "3  Retail/Convenience Store   \n",
       "4  Retail/Convenience Store   \n",
       "\n",
       "                                     description_new   num     street  ...  \\\n",
       "0  Fabrication, Design, Installation and Maintenance  5414  Walnut St  ...   \n",
       "1                                     Administrative  5414  Walnut St  ...   \n",
       "2                           Hot Holding Temperatures  5414  Walnut St  ...   \n",
       "3                 Facilities to Maintain Temperature  5414  Walnut St  ...   \n",
       "4                          Cleaning and Sanitization  5414  Walnut St  ...   \n",
       "\n",
       "       zip  inspect_dt  start_time  end_time       municipal rating  low  \\\n",
       "0  15232.0  2014-08-25    09:30:00  10:45:00  Pittsburgh-107      V    T   \n",
       "1  15232.0  2014-08-25    09:30:00  10:45:00  Pittsburgh-107      V  NaN   \n",
       "2  15232.0  2015-10-13    13:40:00  15:45:00  Pittsburgh-107      V    F   \n",
       "3  15232.0  2015-10-13    13:40:00  15:45:00  Pittsburgh-107      V    T   \n",
       "4  15232.0  2015-10-13    13:40:00  15:45:00  Pittsburgh-107      V    T   \n",
       "\n",
       "  medium high                                                url  \n",
       "0      F    F  http://appsrv.alleghenycounty.us/reports/rwser...  \n",
       "1    NaN  NaN  http://appsrv.alleghenycounty.us/reports/rwser...  \n",
       "2      F    T  http://appsrv.alleghenycounty.us/reports/rwser...  \n",
       "3      F    F  http://appsrv.alleghenycounty.us/reports/rwser...  \n",
       "4      F    F  http://appsrv.alleghenycounty.us/reports/rwser...  \n",
       "\n",
       "[5 rows x 22 columns]"
      ]
     },
     "execution_count": 3,
     "metadata": {},
     "output_type": "execute_result"
    }
   ],
   "source": [
    "import pandas as pd\n",
    "\n",
    "# Load the CSV file into a DataFrame\n",
    "file_path = 'Violation_Records.csv'\n",
    "data = pd.read_csv(file_path)\n",
    "\n",
    "# Display the first few rows of the DataFrame\n",
    "data.head()"
   ]
  },
  {
   "cell_type": "markdown",
   "metadata": {},
   "source": [
    "Unfortunately, the dataset contains all violation records for Allegheny County. Filtering out places other than Pittsburgh is needed."
   ]
  },
  {
   "cell_type": "code",
   "execution_count": 4,
   "metadata": {},
   "outputs": [
    {
     "data": {
      "text/html": [
       "<div>\n",
       "<style scoped>\n",
       "    .dataframe tbody tr th:only-of-type {\n",
       "        vertical-align: middle;\n",
       "    }\n",
       "\n",
       "    .dataframe tbody tr th {\n",
       "        vertical-align: top;\n",
       "    }\n",
       "\n",
       "    .dataframe thead th {\n",
       "        text-align: right;\n",
       "    }\n",
       "</style>\n",
       "<table border=\"1\" class=\"dataframe\">\n",
       "  <thead>\n",
       "    <tr style=\"text-align: right;\">\n",
       "      <th></th>\n",
       "      <th>_id</th>\n",
       "      <th>encounter</th>\n",
       "      <th>id</th>\n",
       "      <th>placard_st</th>\n",
       "      <th>facility_name</th>\n",
       "      <th>bus_st_date</th>\n",
       "      <th>description</th>\n",
       "      <th>description_new</th>\n",
       "      <th>num</th>\n",
       "      <th>street</th>\n",
       "      <th>...</th>\n",
       "      <th>zip</th>\n",
       "      <th>inspect_dt</th>\n",
       "      <th>start_time</th>\n",
       "      <th>end_time</th>\n",
       "      <th>municipal</th>\n",
       "      <th>rating</th>\n",
       "      <th>low</th>\n",
       "      <th>medium</th>\n",
       "      <th>high</th>\n",
       "      <th>url</th>\n",
       "    </tr>\n",
       "  </thead>\n",
       "  <tbody>\n",
       "    <tr>\n",
       "      <th>0</th>\n",
       "      <td>106809214</td>\n",
       "      <td>201408280014</td>\n",
       "      <td>59</td>\n",
       "      <td>1</td>\n",
       "      <td>Shadyside Market</td>\n",
       "      <td>1984-06-17</td>\n",
       "      <td>Retail/Convenience Store</td>\n",
       "      <td>Fabrication, Design, Installation and Maintenance</td>\n",
       "      <td>5414</td>\n",
       "      <td>Walnut St</td>\n",
       "      <td>...</td>\n",
       "      <td>15232.0</td>\n",
       "      <td>2014-08-25</td>\n",
       "      <td>09:30:00</td>\n",
       "      <td>10:45:00</td>\n",
       "      <td>Pittsburgh-107</td>\n",
       "      <td>V</td>\n",
       "      <td>T</td>\n",
       "      <td>F</td>\n",
       "      <td>F</td>\n",
       "      <td>http://appsrv.alleghenycounty.us/reports/rwser...</td>\n",
       "    </tr>\n",
       "    <tr>\n",
       "      <th>1</th>\n",
       "      <td>106809215</td>\n",
       "      <td>201408280014</td>\n",
       "      <td>59</td>\n",
       "      <td>1</td>\n",
       "      <td>Shadyside Market</td>\n",
       "      <td>1984-06-17</td>\n",
       "      <td>Retail/Convenience Store</td>\n",
       "      <td>Administrative</td>\n",
       "      <td>5414</td>\n",
       "      <td>Walnut St</td>\n",
       "      <td>...</td>\n",
       "      <td>15232.0</td>\n",
       "      <td>2014-08-25</td>\n",
       "      <td>09:30:00</td>\n",
       "      <td>10:45:00</td>\n",
       "      <td>Pittsburgh-107</td>\n",
       "      <td>V</td>\n",
       "      <td>NaN</td>\n",
       "      <td>NaN</td>\n",
       "      <td>NaN</td>\n",
       "      <td>http://appsrv.alleghenycounty.us/reports/rwser...</td>\n",
       "    </tr>\n",
       "    <tr>\n",
       "      <th>2</th>\n",
       "      <td>106809216</td>\n",
       "      <td>201510130064</td>\n",
       "      <td>59</td>\n",
       "      <td>1</td>\n",
       "      <td>Shadyside Market</td>\n",
       "      <td>1984-06-17</td>\n",
       "      <td>Retail/Convenience Store</td>\n",
       "      <td>Hot Holding Temperatures</td>\n",
       "      <td>5414</td>\n",
       "      <td>Walnut St</td>\n",
       "      <td>...</td>\n",
       "      <td>15232.0</td>\n",
       "      <td>2015-10-13</td>\n",
       "      <td>13:40:00</td>\n",
       "      <td>15:45:00</td>\n",
       "      <td>Pittsburgh-107</td>\n",
       "      <td>V</td>\n",
       "      <td>F</td>\n",
       "      <td>F</td>\n",
       "      <td>T</td>\n",
       "      <td>http://appsrv.alleghenycounty.us/reports/rwser...</td>\n",
       "    </tr>\n",
       "    <tr>\n",
       "      <th>3</th>\n",
       "      <td>106809217</td>\n",
       "      <td>201510130064</td>\n",
       "      <td>59</td>\n",
       "      <td>1</td>\n",
       "      <td>Shadyside Market</td>\n",
       "      <td>1984-06-17</td>\n",
       "      <td>Retail/Convenience Store</td>\n",
       "      <td>Facilities to Maintain Temperature</td>\n",
       "      <td>5414</td>\n",
       "      <td>Walnut St</td>\n",
       "      <td>...</td>\n",
       "      <td>15232.0</td>\n",
       "      <td>2015-10-13</td>\n",
       "      <td>13:40:00</td>\n",
       "      <td>15:45:00</td>\n",
       "      <td>Pittsburgh-107</td>\n",
       "      <td>V</td>\n",
       "      <td>T</td>\n",
       "      <td>F</td>\n",
       "      <td>F</td>\n",
       "      <td>http://appsrv.alleghenycounty.us/reports/rwser...</td>\n",
       "    </tr>\n",
       "    <tr>\n",
       "      <th>4</th>\n",
       "      <td>106809218</td>\n",
       "      <td>201510130064</td>\n",
       "      <td>59</td>\n",
       "      <td>1</td>\n",
       "      <td>Shadyside Market</td>\n",
       "      <td>1984-06-17</td>\n",
       "      <td>Retail/Convenience Store</td>\n",
       "      <td>Cleaning and Sanitization</td>\n",
       "      <td>5414</td>\n",
       "      <td>Walnut St</td>\n",
       "      <td>...</td>\n",
       "      <td>15232.0</td>\n",
       "      <td>2015-10-13</td>\n",
       "      <td>13:40:00</td>\n",
       "      <td>15:45:00</td>\n",
       "      <td>Pittsburgh-107</td>\n",
       "      <td>V</td>\n",
       "      <td>T</td>\n",
       "      <td>F</td>\n",
       "      <td>F</td>\n",
       "      <td>http://appsrv.alleghenycounty.us/reports/rwser...</td>\n",
       "    </tr>\n",
       "  </tbody>\n",
       "</table>\n",
       "<p>5 rows × 22 columns</p>\n",
       "</div>"
      ],
      "text/plain": [
       "         _id     encounter  id  placard_st     facility_name bus_st_date  \\\n",
       "0  106809214  201408280014  59           1  Shadyside Market  1984-06-17   \n",
       "1  106809215  201408280014  59           1  Shadyside Market  1984-06-17   \n",
       "2  106809216  201510130064  59           1  Shadyside Market  1984-06-17   \n",
       "3  106809217  201510130064  59           1  Shadyside Market  1984-06-17   \n",
       "4  106809218  201510130064  59           1  Shadyside Market  1984-06-17   \n",
       "\n",
       "                description  \\\n",
       "0  Retail/Convenience Store   \n",
       "1  Retail/Convenience Store   \n",
       "2  Retail/Convenience Store   \n",
       "3  Retail/Convenience Store   \n",
       "4  Retail/Convenience Store   \n",
       "\n",
       "                                     description_new   num     street  ...  \\\n",
       "0  Fabrication, Design, Installation and Maintenance  5414  Walnut St  ...   \n",
       "1                                     Administrative  5414  Walnut St  ...   \n",
       "2                           Hot Holding Temperatures  5414  Walnut St  ...   \n",
       "3                 Facilities to Maintain Temperature  5414  Walnut St  ...   \n",
       "4                          Cleaning and Sanitization  5414  Walnut St  ...   \n",
       "\n",
       "       zip  inspect_dt  start_time  end_time       municipal rating  low  \\\n",
       "0  15232.0  2014-08-25    09:30:00  10:45:00  Pittsburgh-107      V    T   \n",
       "1  15232.0  2014-08-25    09:30:00  10:45:00  Pittsburgh-107      V  NaN   \n",
       "2  15232.0  2015-10-13    13:40:00  15:45:00  Pittsburgh-107      V    F   \n",
       "3  15232.0  2015-10-13    13:40:00  15:45:00  Pittsburgh-107      V    T   \n",
       "4  15232.0  2015-10-13    13:40:00  15:45:00  Pittsburgh-107      V    T   \n",
       "\n",
       "  medium high                                                url  \n",
       "0      F    F  http://appsrv.alleghenycounty.us/reports/rwser...  \n",
       "1    NaN  NaN  http://appsrv.alleghenycounty.us/reports/rwser...  \n",
       "2      F    T  http://appsrv.alleghenycounty.us/reports/rwser...  \n",
       "3      F    F  http://appsrv.alleghenycounty.us/reports/rwser...  \n",
       "4      F    F  http://appsrv.alleghenycounty.us/reports/rwser...  \n",
       "\n",
       "[5 rows x 22 columns]"
      ]
     },
     "execution_count": 4,
     "metadata": {},
     "output_type": "execute_result"
    }
   ],
   "source": [
    "# Filter out rows where the 'municipal' column does not contain 'Pittsburgh'\n",
    "pittsburgh_data = data[data['municipal'].str.contains(\"Pittsburgh\")]\n",
    "\n",
    "# Display the first few rows of the filtered data\n",
    "pittsburgh_data.head()"
   ]
  },
  {
   "cell_type": "markdown",
   "metadata": {},
   "source": [
    "Timeliness of data is important. Filter out all violation records whose inspection date is before Jan 1, 2016."
   ]
  },
  {
   "cell_type": "code",
   "execution_count": 5,
   "metadata": {},
   "outputs": [
    {
     "name": "stderr",
     "output_type": "stream",
     "text": [
      "<ipython-input-5-4918194bb15f>:2: SettingWithCopyWarning: \n",
      "A value is trying to be set on a copy of a slice from a DataFrame.\n",
      "Try using .loc[row_indexer,col_indexer] = value instead\n",
      "\n",
      "See the caveats in the documentation: https://pandas.pydata.org/pandas-docs/stable/user_guide/indexing.html#returning-a-view-versus-a-copy\n",
      "  pittsburgh_data['inspect_dt'] = pd.to_datetime(pittsburgh_data['inspect_dt'], errors='coerce')\n"
     ]
    },
    {
     "data": {
      "text/html": [
       "<div>\n",
       "<style scoped>\n",
       "    .dataframe tbody tr th:only-of-type {\n",
       "        vertical-align: middle;\n",
       "    }\n",
       "\n",
       "    .dataframe tbody tr th {\n",
       "        vertical-align: top;\n",
       "    }\n",
       "\n",
       "    .dataframe thead th {\n",
       "        text-align: right;\n",
       "    }\n",
       "</style>\n",
       "<table border=\"1\" class=\"dataframe\">\n",
       "  <thead>\n",
       "    <tr style=\"text-align: right;\">\n",
       "      <th></th>\n",
       "      <th>_id</th>\n",
       "      <th>encounter</th>\n",
       "      <th>id</th>\n",
       "      <th>placard_st</th>\n",
       "      <th>facility_name</th>\n",
       "      <th>bus_st_date</th>\n",
       "      <th>description</th>\n",
       "      <th>description_new</th>\n",
       "      <th>num</th>\n",
       "      <th>street</th>\n",
       "      <th>...</th>\n",
       "      <th>zip</th>\n",
       "      <th>inspect_dt</th>\n",
       "      <th>start_time</th>\n",
       "      <th>end_time</th>\n",
       "      <th>municipal</th>\n",
       "      <th>rating</th>\n",
       "      <th>low</th>\n",
       "      <th>medium</th>\n",
       "      <th>high</th>\n",
       "      <th>url</th>\n",
       "    </tr>\n",
       "  </thead>\n",
       "  <tbody>\n",
       "    <tr>\n",
       "      <th>10</th>\n",
       "      <td>106809224</td>\n",
       "      <td>201604070053</td>\n",
       "      <td>59</td>\n",
       "      <td>1</td>\n",
       "      <td>Shadyside Market</td>\n",
       "      <td>1984-06-17</td>\n",
       "      <td>Retail/Convenience Store</td>\n",
       "      <td>Date Marking of Food</td>\n",
       "      <td>5414</td>\n",
       "      <td>Walnut St</td>\n",
       "      <td>...</td>\n",
       "      <td>15232.0</td>\n",
       "      <td>2016-04-07</td>\n",
       "      <td>13:20:00</td>\n",
       "      <td>15:00:00</td>\n",
       "      <td>Pittsburgh-107</td>\n",
       "      <td>V</td>\n",
       "      <td>F</td>\n",
       "      <td>T</td>\n",
       "      <td>F</td>\n",
       "      <td>http://appsrv.alleghenycounty.us/reports/rwser...</td>\n",
       "    </tr>\n",
       "    <tr>\n",
       "      <th>11</th>\n",
       "      <td>106809225</td>\n",
       "      <td>201604070053</td>\n",
       "      <td>59</td>\n",
       "      <td>1</td>\n",
       "      <td>Shadyside Market</td>\n",
       "      <td>1984-06-17</td>\n",
       "      <td>Retail/Convenience Store</td>\n",
       "      <td>Employee Personal Hygiene</td>\n",
       "      <td>5414</td>\n",
       "      <td>Walnut St</td>\n",
       "      <td>...</td>\n",
       "      <td>15232.0</td>\n",
       "      <td>2016-04-07</td>\n",
       "      <td>13:20:00</td>\n",
       "      <td>15:00:00</td>\n",
       "      <td>Pittsburgh-107</td>\n",
       "      <td>V</td>\n",
       "      <td>F</td>\n",
       "      <td>F</td>\n",
       "      <td>T</td>\n",
       "      <td>http://appsrv.alleghenycounty.us/reports/rwser...</td>\n",
       "    </tr>\n",
       "    <tr>\n",
       "      <th>59</th>\n",
       "      <td>106809273</td>\n",
       "      <td>201611180002</td>\n",
       "      <td>213</td>\n",
       "      <td>1</td>\n",
       "      <td>The Strip District Meats</td>\n",
       "      <td>1970-01-01</td>\n",
       "      <td>Food Processor</td>\n",
       "      <td>Cleaning and Sanitization</td>\n",
       "      <td>2123</td>\n",
       "      <td>Penn Avenue</td>\n",
       "      <td>...</td>\n",
       "      <td>15222.0</td>\n",
       "      <td>2016-11-16</td>\n",
       "      <td>14:30:00</td>\n",
       "      <td>15:30:00</td>\n",
       "      <td>Pittsburgh-102</td>\n",
       "      <td>V</td>\n",
       "      <td>T</td>\n",
       "      <td>F</td>\n",
       "      <td>T</td>\n",
       "      <td>http://appsrv.alleghenycounty.us/reports/rwser...</td>\n",
       "    </tr>\n",
       "    <tr>\n",
       "      <th>60</th>\n",
       "      <td>106809274</td>\n",
       "      <td>201604070053</td>\n",
       "      <td>59</td>\n",
       "      <td>1</td>\n",
       "      <td>Shadyside Market</td>\n",
       "      <td>1984-06-17</td>\n",
       "      <td>Retail/Convenience Store</td>\n",
       "      <td>Cleaning and Sanitization</td>\n",
       "      <td>5414</td>\n",
       "      <td>Walnut St</td>\n",
       "      <td>...</td>\n",
       "      <td>15232.0</td>\n",
       "      <td>2016-04-07</td>\n",
       "      <td>13:20:00</td>\n",
       "      <td>15:00:00</td>\n",
       "      <td>Pittsburgh-107</td>\n",
       "      <td>V</td>\n",
       "      <td>T</td>\n",
       "      <td>F</td>\n",
       "      <td>T</td>\n",
       "      <td>http://appsrv.alleghenycounty.us/reports/rwser...</td>\n",
       "    </tr>\n",
       "    <tr>\n",
       "      <th>61</th>\n",
       "      <td>106809275</td>\n",
       "      <td>201610270019</td>\n",
       "      <td>59</td>\n",
       "      <td>1</td>\n",
       "      <td>Shadyside Market</td>\n",
       "      <td>1984-06-17</td>\n",
       "      <td>Retail/Convenience Store</td>\n",
       "      <td>Date Marking of Food</td>\n",
       "      <td>5414</td>\n",
       "      <td>Walnut St</td>\n",
       "      <td>...</td>\n",
       "      <td>15232.0</td>\n",
       "      <td>2016-10-27</td>\n",
       "      <td>12:10:00</td>\n",
       "      <td>14:00:00</td>\n",
       "      <td>Pittsburgh-107</td>\n",
       "      <td>V</td>\n",
       "      <td>F</td>\n",
       "      <td>T</td>\n",
       "      <td>F</td>\n",
       "      <td>http://appsrv.alleghenycounty.us/reports/rwser...</td>\n",
       "    </tr>\n",
       "  </tbody>\n",
       "</table>\n",
       "<p>5 rows × 22 columns</p>\n",
       "</div>"
      ],
      "text/plain": [
       "          _id     encounter   id  placard_st             facility_name  \\\n",
       "10  106809224  201604070053   59           1          Shadyside Market   \n",
       "11  106809225  201604070053   59           1          Shadyside Market   \n",
       "59  106809273  201611180002  213           1  The Strip District Meats   \n",
       "60  106809274  201604070053   59           1          Shadyside Market   \n",
       "61  106809275  201610270019   59           1          Shadyside Market   \n",
       "\n",
       "   bus_st_date               description            description_new   num  \\\n",
       "10  1984-06-17  Retail/Convenience Store       Date Marking of Food  5414   \n",
       "11  1984-06-17  Retail/Convenience Store  Employee Personal Hygiene  5414   \n",
       "59  1970-01-01            Food Processor  Cleaning and Sanitization  2123   \n",
       "60  1984-06-17  Retail/Convenience Store  Cleaning and Sanitization  5414   \n",
       "61  1984-06-17  Retail/Convenience Store       Date Marking of Food  5414   \n",
       "\n",
       "         street  ...      zip inspect_dt  start_time  end_time  \\\n",
       "10    Walnut St  ...  15232.0 2016-04-07    13:20:00  15:00:00   \n",
       "11    Walnut St  ...  15232.0 2016-04-07    13:20:00  15:00:00   \n",
       "59  Penn Avenue  ...  15222.0 2016-11-16    14:30:00  15:30:00   \n",
       "60    Walnut St  ...  15232.0 2016-04-07    13:20:00  15:00:00   \n",
       "61    Walnut St  ...  15232.0 2016-10-27    12:10:00  14:00:00   \n",
       "\n",
       "         municipal rating low medium high  \\\n",
       "10  Pittsburgh-107      V   F      T    F   \n",
       "11  Pittsburgh-107      V   F      F    T   \n",
       "59  Pittsburgh-102      V   T      F    T   \n",
       "60  Pittsburgh-107      V   T      F    T   \n",
       "61  Pittsburgh-107      V   F      T    F   \n",
       "\n",
       "                                                  url  \n",
       "10  http://appsrv.alleghenycounty.us/reports/rwser...  \n",
       "11  http://appsrv.alleghenycounty.us/reports/rwser...  \n",
       "59  http://appsrv.alleghenycounty.us/reports/rwser...  \n",
       "60  http://appsrv.alleghenycounty.us/reports/rwser...  \n",
       "61  http://appsrv.alleghenycounty.us/reports/rwser...  \n",
       "\n",
       "[5 rows x 22 columns]"
      ]
     },
     "execution_count": 5,
     "metadata": {},
     "output_type": "execute_result"
    }
   ],
   "source": [
    "# Convert 'inspect_dt' to datetime format and filter out dates before Jan 1, 2016\n",
    "pittsburgh_data['inspect_dt'] = pd.to_datetime(pittsburgh_data['inspect_dt'], errors='coerce')\n",
    "filtered_data = pittsburgh_data[pittsburgh_data['inspect_dt'] >= '2016-01-01']\n",
    "\n",
    "# Display the first few rows of the further filtered data\n",
    "filtered_data.head()"
   ]
  },
  {
   "cell_type": "markdown",
   "metadata": {},
   "source": [
    "Then sort the data by Zip code and visualize the number of violations of them with a bar chart."
   ]
  },
  {
   "cell_type": "code",
   "execution_count": 6,
   "metadata": {},
   "outputs": [
    {
     "data": {
      "image/png": "[encoded data removed]",
      "text/plain": [
       "<Figure size 1008x504 with 1 Axes>"
      ]
     },
     "metadata": {
      "needs_background": "light"
     },
     "output_type": "display_data"
    }
   ],
   "source": [
    "import matplotlib.pyplot as plt\n",
    "\n",
    "# Filter data for 'V' ratings\n",
    "v_ratings = filtered_data[filtered_data['rating'] == 'V']\n",
    "\n",
    "# Group by 'zip' and count 'V' ratings\n",
    "v_count_by_zip = v_ratings.groupby('zip').size()\n",
    "\n",
    "# Plotting the data\n",
    "plt.figure(figsize=(14, 7))\n",
    "v_count_by_zip.plot(kind='bar', color='red')\n",
    "plt.title('Number of Violations by ZIP Code')\n",
    "plt.xlabel('ZIP Code')\n",
    "plt.ylabel('Number of Violations')\n",
    "plt.xticks(rotation=90)  # Rotates the labels on the x-axis for better readability\n",
    "plt.grid(axis='y', linestyle='--', alpha=0.7)\n",
    "plt.tight_layout()  # Adjusts plot to ensure everything fits without overlap\n",
    "plt.show()\n"
   ]
  },
  {
   "cell_type": "markdown",
   "metadata": {},
   "source": [
    "Notice that many of them have zero or very little number of violations. It is assumed that very little number of violations is due to data gaps or lack of restaurants. Adequacy of data is valued, so neiborhoods whose number of violations is less than 1000 should be filtered out. The remaining neiborhoods will be considered as meanningful for further discussion."
   ]
  },
  {
   "cell_type": "code",
   "execution_count": 7,
   "metadata": {},
   "outputs": [
    {
     "data": {
      "image/png": "[encoded data removed]",
      "text/plain": [
       "<Figure size 720x432 with 1 Axes>"
      ]
     },
     "metadata": {
      "needs_background": "light"
     },
     "output_type": "display_data"
    }
   ],
   "source": [
    "# Filter out ZIP codes with fewer than 1000 violations\n",
    "significant_violations = v_count_by_zip[v_count_by_zip >= 1000]\n",
    "\n",
    "# Plotting the filtered data\n",
    "plt.figure(figsize=(10, 6))\n",
    "significant_violations.plot(kind='bar', color='red')\n",
    "plt.title('Number of Violations by ZIP Code (Over 1000 Violations)')\n",
    "plt.xlabel('ZIP Code')\n",
    "plt.ylabel('Number of Violations')\n",
    "plt.xticks(rotation=90)  # Rotates the labels on the x-axis for better readability\n",
    "plt.grid(axis='y', linestyle='--', alpha=0.7)\n",
    "plt.tight_layout()  # Adjusts plot to ensure everything fits without overlap\n",
    "plt.show()"
   ]
  },
  {
   "cell_type": "markdown",
   "metadata": {},
   "source": [
    "Select the 10 neighborhoods with the least violations from the meaningful group."
   ]
  },
  {
   "cell_type": "code",
   "execution_count": 8,
   "metadata": {},
   "outputs": [
    {
     "data": {
      "image/png": "[encoded data removed]",
      "text/plain": [
       "<Figure size 864x576 with 1 Axes>"
      ]
     },
     "metadata": {
      "needs_background": "light"
     },
     "output_type": "display_data"
    }
   ],
   "source": [
    "# Selecting the 10 with the least violations\n",
    "significant_violations_filtered = significant_violations.sort_values(ascending=False).tail(10)\n",
    "\n",
    "# Recalculating counts for low, medium, and high severity violations within these top 10 least violating ZIP codes among those with over 1000 violations\n",
    "low_counts_significant = filtered_data[(filtered_data['rating'] == 'V') & (filtered_data['low'] == 'T')].groupby('zip').size().reindex(significant_violations_filtered.index, fill_value=0)\n",
    "medium_counts_significant = filtered_data[(filtered_data['rating'] == 'V') & (filtered_data['medium'] == 'T')].groupby('zip').size().reindex(significant_violations_filtered.index, fill_value=0)\n",
    "high_counts_significant = filtered_data[(filtered_data['rating'] == 'V') & (filtered_data['high'] == 'T')].groupby('zip').size().reindex(significant_violations_filtered.index, fill_value=0)\n",
    "\n",
    "# Creating a horizontally extending bar chart for these ZIP codes\n",
    "plt.figure(figsize=(12, 8))\n",
    "bar_width = 0.85\n",
    "\n",
    "# Create bars\n",
    "bar_low_significant = plt.barh(significant_violations_filtered.index.map(int).map(str), low_counts_significant, color='skyblue', edgecolor='grey', height=bar_width, label='Low')\n",
    "bar_medium_significant = plt.barh(significant_violations_filtered.index.map(int).map(str), medium_counts_significant, left=low_counts_significant, color='gold', edgecolor='grey', height=bar_width, label='Medium')\n",
    "bar_high_significant = plt.barh(significant_violations_filtered.index.map(int).map(str), high_counts_significant, left=low_counts_significant + medium_counts_significant, color='salmon', edgecolor='grey', height=bar_width, label='High')\n",
    "\n",
    "# Add labels and legend\n",
    "plt.xlabel('Number of Violations')\n",
    "plt.title('Top 10 Least Violating ZIP Codes Among Those with Over 1000 Violations')\n",
    "plt.legend(loc='upper right')\n",
    "plt.tight_layout()\n",
    "plt.show()"
   ]
  },
  {
   "cell_type": "markdown",
   "metadata": {},
   "source": [
    "The differences between 15221, 15205, 15233, 15238 and 15207 could be considered as trivial. Futher examine them by severity and create pie charts for each of them."
   ]
  },
  {
   "cell_type": "code",
   "execution_count": 10,
   "metadata": {},
   "outputs": [
    {
     "data": {
      "image/png": "[encoded data removed]",
      "text/plain": [
       "<Figure size 1440x288 with 5 Axes>"
      ]
     },
     "metadata": {},
     "output_type": "display_data"
    }
   ],
   "source": [
    "# Filter the counts for specific ZIP codes for the pie charts\n",
    "zip_codes_of_interest = [15221, 15205, 15233, 15238, 15207]\n",
    "filtered_low_counts = low_counts_significant.reindex(zip_codes_of_interest, fill_value=0)\n",
    "filtered_medium_counts = medium_counts_significant.reindex(zip_codes_of_interest, fill_value=0)\n",
    "filtered_high_counts = high_counts_significant.reindex(zip_codes_of_interest, fill_value=0)\n",
    "\n",
    "# Create pie charts for each of the selected ZIP codes\n",
    "fig, axes = plt.subplots(1, 5, figsize=(20, 4))\n",
    "colors = ['skyblue', 'gold', 'salmon']\n",
    "\n",
    "for i, zip_code in enumerate(zip_codes_of_interest):\n",
    "    counts = [filtered_low_counts[zip_code], filtered_medium_counts[zip_code], filtered_high_counts[zip_code]]\n",
    "    axes[i].pie(counts, labels=['Low', 'Medium', 'High'], autopct='%1.1f%%', startangle=140, colors=colors)\n",
    "    axes[i].set_title(f'ZIP Code: {zip_code}')\n",
    "\n",
    "# Show the pie charts\n",
    "plt.tight_layout()\n",
    "plt.show()"
   ]
  },
  {
   "cell_type": "markdown",
   "metadata": {},
   "source": [
    "It is noticed that 15207 has the largest component of \"low\" violations and smallest components of \"medium\" and \"high\" violations."
   ]
  },
  {
   "cell_type": "markdown",
   "metadata": {},
   "source": [
    "## Conclusion"
   ]
  },
  {
   "cell_type": "markdown",
   "metadata": {},
   "source": [
    "The original data has been filtered to concentrate on inspections after Jan 1, 2016 in Pittsburgh. Through analysis on the remaining data with a focus of total number of violations and the component ratios of violations, it is concluded that:"
   ]
  },
  {
   "cell_type": "markdown",
   "metadata": {},
   "source": [
    "**The best neighborhood in Pittsburgh is 15207, Hazelwood!**"
   ]
  },
  {
   "cell_type": "markdown",
   "metadata": {},
   "source": [
    "The top 3 neighborhoods are:"
   ]
  },
  {
   "cell_type": "markdown",
   "metadata": {},
   "source": [
    "1. **15207 Hazelwood**\n",
    "2. **15205 Fairywood**\n",
    "3. **15233 Manchester**"
   ]
  }
 ],
 "metadata": {
  "kernelspec": {
   "display_name": "Python 3 (ipykernel)",
   "language": "python",
   "name": "python3"
  },
  "language_info": {
   "codemirror_mode": {
    "name": "ipython",
    "version": 3
   },
   "file_extension": ".py",
   "mimetype": "text/x-python",
   "name": "python",
   "nbconvert_exporter": "python",
   "pygments_lexer": "ipython3",
   "version": "3.11.5"
  }
 },
 "nbformat": 4,
 "nbformat_minor": 4
}
