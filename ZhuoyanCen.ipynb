{
 "cells": [
  {
   "cell_type": "code",
   "execution_count": 22,
   "id": "51d2c29f-e843-480a-85c9-2c3d6808aa48",
   "metadata": {
    "tags": []
   },
   "outputs": [],
   "source": [
    "import pandas as pd\n",
    "import numpy as np\n",
    "import matplotlib.pyplot as plt\n",
    "\n",
    "# read file\n",
    "data = pd.read_csv(\"trees.csv\", dtype={2: str})\n",
    "\n",
    "\n",
    "condition_scores = {'good': 100, 'fair': 60, 'poor': 30, 'NA': 0}\n",
    "data['Condition_Score'] = data['condition'].map(condition_scores)\n",
    "\n",
    "\n",
    "\n",
    "weights = {\n",
    "    'Condition_Score': 0.20,\n",
    "    'Stormwater_Benefits_Dollar_Value': 0.15,\n",
    "    'Energy_Benefits_Avg': 0.10,\n",
    "    'Air_Quality_Benefits_Avg': 0.20,\n",
    "    'CO2_Benefits_Avg': 0.15,\n",
    "}\n",
    "\n",
    "\n",
    "\n"
   ]
  },
  {
   "cell_type": "code",
   "execution_count": null,
   "id": "bde51acb-156d-4eee-bdf0-ba4144df4f1d",
   "metadata": {},
   "outputs": [],
   "source": []
  }
 ],
 "metadata": {
  "kernelspec": {
   "display_name": "Python 3 (ipykernel)",
   "language": "python",
   "name": "python3"
  },
  "language_info": {
   "codemirror_mode": {
    "name": "ipython",
    "version": 3
   },
   "file_extension": ".py",
   "mimetype": "text/x-python",
   "name": "python",
   "nbconvert_exporter": "python",
   "pygments_lexer": "ipython3",
   "version": "3.11.5"
  }
 },
 "nbformat": 4,
 "nbformat_minor": 5
}
